{
 "cells": [
  {
   "cell_type": "markdown",
   "metadata": {
    "colab_type": "text",
    "id": "vN99YjPTDena"
   },
   "source": [
    "# Polynomial Regression"
   ]
  },
  {
   "cell_type": "markdown",
   "metadata": {
    "colab_type": "text",
    "id": "ZIx_naXnDyHd"
   },
   "source": [
    "## Importing the libraries"
   ]
  },
  {
   "cell_type": "code",
   "execution_count": 5,
   "metadata": {
    "colab": {},
    "colab_type": "code",
    "id": "FjnmdyPLD2tS"
   },
   "outputs": [],
   "source": [
    "import numpy as np\n",
    "import matplotlib.pyplot as plt\n",
    "import pandas as pd\n",
    "\n",
    "from keras import models, layers"
   ]
  },
  {
   "cell_type": "markdown",
   "metadata": {
    "colab_type": "text",
    "id": "6c8YExmOD5x5"
   },
   "source": [
    "## Importing the dataset"
   ]
  },
  {
   "cell_type": "code",
   "execution_count": 2,
   "metadata": {
    "colab": {},
    "colab_type": "code",
    "id": "nQOdXhjXD_AE"
   },
   "outputs": [],
   "source": [
    "from sklearn.datasets import load_boston        #We are using the Boston house Pricing Dataset provided by Sklearn \n",
    "X, y = load_boston(return_X_y = True)\n",
    "y = np.reshape(y, ( y.shape[0], 1))"
   ]
  },
  {
   "cell_type": "code",
   "execution_count": 3,
   "metadata": {},
   "outputs": [
    {
     "data": {
      "text/plain": [
       "(506, 13)"
      ]
     },
     "execution_count": 3,
     "metadata": {},
     "output_type": "execute_result"
    }
   ],
   "source": [
    "X.shape"
   ]
  },
  {
   "cell_type": "code",
   "execution_count": 6,
   "metadata": {},
   "outputs": [
    {
     "data": {
      "text/plain": [
       "(506, 1)"
      ]
     },
     "execution_count": 6,
     "metadata": {},
     "output_type": "execute_result"
    }
   ],
   "source": [
    "y.shape"
   ]
  },
  {
   "cell_type": "markdown",
   "metadata": {
    "colab_type": "text",
    "id": "YGDjTntXHwSD"
   },
   "source": [
    "##Feature Scaling"
   ]
  },
  {
   "cell_type": "code",
   "execution_count": 7,
   "metadata": {
    "colab": {},
    "colab_type": "code",
    "id": "kvqk0kPiHvhZ"
   },
   "outputs": [],
   "source": [
    "from sklearn.preprocessing import StandardScaler\n",
    "sc = StandardScaler()\n",
    "X = sc.fit_transform(X)"
   ]
  },
  {
   "cell_type": "markdown",
   "metadata": {
    "colab_type": "text",
    "id": "cNnvoJ3dCaTR"
   },
   "source": [
    "##Test train split"
   ]
  },
  {
   "cell_type": "code",
   "execution_count": 8,
   "metadata": {
    "colab": {},
    "colab_type": "code",
    "id": "IqIsOkeVCZyR"
   },
   "outputs": [],
   "source": [
    "from sklearn.model_selection import train_test_split\n",
    "X_train, X_test, y_train, y_test = train_test_split(X, y, test_size = 0.2, random_state = 0)"
   ]
  },
  {
   "cell_type": "markdown",
   "metadata": {
    "colab_type": "text",
    "id": "Rb5nWuSHEfBV"
   },
   "source": [
    "## Training the Artificial Neural Network model on the whole dataset"
   ]
  },
  {
   "cell_type": "code",
   "execution_count": 60,
   "metadata": {},
   "outputs": [],
   "source": [
    "model = models.Sequential()\n",
    "model.add(layers.Dense(32, activation='relu', input_shape=[X_train.shape[1]]))\n",
    "model.add(layers.Dropout(0.1))\n",
    "model.add(layers.Dense(16, activation='relu'))\n",
    "model.add(layers.Dropout(0.1))\n",
    "model.add(layers.Dense(16, activation='relu'))\n",
    "model.add(layers.Dropout(0.1))\n",
    "model.add(layers.Dense(1))\n",
    "model.compile(optimizer='rmsprop', loss='mse', metrics=['mae'])"
   ]
  },
  {
   "cell_type": "code",
   "execution_count": 61,
   "metadata": {},
   "outputs": [
    {
     "name": "stdout",
     "output_type": "stream",
     "text": [
      "Epoch 1/100\n",
      "11/11 [==============================] - 0s 18ms/step - loss: 568.4425 - mae: 21.9887 - val_loss: 542.3966 - val_mae: 21.2375\n",
      "Epoch 2/100\n",
      "11/11 [==============================] - 0s 4ms/step - loss: 540.9139 - mae: 21.3260 - val_loss: 512.3043 - val_mae: 20.5482\n",
      "Epoch 3/100\n",
      "11/11 [==============================] - 0s 4ms/step - loss: 510.7437 - mae: 20.6065 - val_loss: 478.2372 - val_mae: 19.7377\n",
      "Epoch 4/100\n",
      "11/11 [==============================] - 0s 4ms/step - loss: 469.0335 - mae: 19.6543 - val_loss: 431.8552 - val_mae: 18.6517\n",
      "Epoch 5/100\n",
      "11/11 [==============================] - 0s 4ms/step - loss: 423.8932 - mae: 18.5589 - val_loss: 379.6617 - val_mae: 17.3595\n",
      "Epoch 6/100\n",
      "11/11 [==============================] - 0s 3ms/step - loss: 376.0015 - mae: 17.3433 - val_loss: 316.9460 - val_mae: 15.7425\n",
      "Epoch 7/100\n",
      "11/11 [==============================] - 0s 4ms/step - loss: 321.7717 - mae: 15.7706 - val_loss: 259.8546 - val_mae: 14.1208\n",
      "Epoch 8/100\n",
      "11/11 [==============================] - 0s 4ms/step - loss: 259.0084 - mae: 14.0071 - val_loss: 198.5368 - val_mae: 12.0500\n",
      "Epoch 9/100\n",
      "11/11 [==============================] - 0s 3ms/step - loss: 208.3512 - mae: 12.2737 - val_loss: 139.9836 - val_mae: 9.7373\n",
      "Epoch 10/100\n",
      "11/11 [==============================] - 0s 4ms/step - loss: 163.6082 - mae: 10.5201 - val_loss: 110.8494 - val_mae: 8.5377\n",
      "Epoch 11/100\n",
      "11/11 [==============================] - 0s 4ms/step - loss: 130.2127 - mae: 9.4837 - val_loss: 88.3808 - val_mae: 7.4543\n",
      "Epoch 12/100\n",
      "11/11 [==============================] - 0s 3ms/step - loss: 105.7235 - mae: 8.4586 - val_loss: 73.3294 - val_mae: 6.6868\n",
      "Epoch 13/100\n",
      "11/11 [==============================] - 0s 4ms/step - loss: 96.5389 - mae: 7.8056 - val_loss: 60.3705 - val_mae: 6.0248\n",
      "Epoch 14/100\n",
      "11/11 [==============================] - 0s 3ms/step - loss: 84.8109 - mae: 7.2316 - val_loss: 51.3313 - val_mae: 5.4101\n",
      "Epoch 15/100\n",
      "11/11 [==============================] - 0s 4ms/step - loss: 70.8378 - mae: 6.8392 - val_loss: 45.6642 - val_mae: 4.9952\n",
      "Epoch 16/100\n",
      "11/11 [==============================] - 0s 4ms/step - loss: 73.2654 - mae: 6.5258 - val_loss: 39.3870 - val_mae: 4.6458\n",
      "Epoch 17/100\n",
      "11/11 [==============================] - 0s 4ms/step - loss: 62.0090 - mae: 5.9715 - val_loss: 36.0348 - val_mae: 4.3555\n",
      "Epoch 18/100\n",
      "11/11 [==============================] - 0s 4ms/step - loss: 64.3855 - mae: 6.0950 - val_loss: 31.8340 - val_mae: 4.1021\n",
      "Epoch 19/100\n",
      "11/11 [==============================] - 0s 4ms/step - loss: 53.8330 - mae: 5.6706 - val_loss: 29.7016 - val_mae: 3.9403\n",
      "Epoch 20/100\n",
      "11/11 [==============================] - 0s 4ms/step - loss: 45.8497 - mae: 5.1082 - val_loss: 27.5265 - val_mae: 3.7467\n",
      "Epoch 21/100\n",
      "11/11 [==============================] - 0s 4ms/step - loss: 53.0327 - mae: 5.4614 - val_loss: 25.2391 - val_mae: 3.6138\n",
      "Epoch 22/100\n",
      "11/11 [==============================] - 0s 3ms/step - loss: 48.2373 - mae: 5.3178 - val_loss: 23.8596 - val_mae: 3.4953\n",
      "Epoch 23/100\n",
      "11/11 [==============================] - 0s 4ms/step - loss: 41.7583 - mae: 4.9375 - val_loss: 22.8055 - val_mae: 3.3947\n",
      "Epoch 24/100\n",
      "11/11 [==============================] - 0s 4ms/step - loss: 43.7164 - mae: 4.9022 - val_loss: 22.0613 - val_mae: 3.3221\n",
      "Epoch 25/100\n",
      "11/11 [==============================] - 0s 4ms/step - loss: 42.7092 - mae: 4.9756 - val_loss: 21.8591 - val_mae: 3.3328\n",
      "Epoch 26/100\n",
      "11/11 [==============================] - 0s 4ms/step - loss: 37.2177 - mae: 4.5883 - val_loss: 19.7628 - val_mae: 3.1767\n",
      "Epoch 27/100\n",
      "11/11 [==============================] - 0s 3ms/step - loss: 42.6957 - mae: 4.9753 - val_loss: 20.0624 - val_mae: 3.1638\n",
      "Epoch 28/100\n",
      "11/11 [==============================] - 0s 4ms/step - loss: 43.9323 - mae: 5.0490 - val_loss: 20.0770 - val_mae: 3.2276\n",
      "Epoch 29/100\n",
      "11/11 [==============================] - 0s 4ms/step - loss: 38.0812 - mae: 4.6966 - val_loss: 19.9841 - val_mae: 3.1744\n",
      "Epoch 30/100\n",
      "11/11 [==============================] - 0s 4ms/step - loss: 38.7427 - mae: 4.7538 - val_loss: 20.9654 - val_mae: 3.2353\n",
      "Epoch 31/100\n",
      "11/11 [==============================] - 0s 4ms/step - loss: 41.9591 - mae: 4.6767 - val_loss: 17.9161 - val_mae: 3.0269\n",
      "Epoch 32/100\n",
      "11/11 [==============================] - 0s 4ms/step - loss: 35.6033 - mae: 4.6842 - val_loss: 17.1274 - val_mae: 2.9853\n",
      "Epoch 33/100\n",
      "11/11 [==============================] - 0s 4ms/step - loss: 39.4082 - mae: 4.6729 - val_loss: 16.1694 - val_mae: 2.9688\n",
      "Epoch 34/100\n",
      "11/11 [==============================] - 0s 6ms/step - loss: 36.8256 - mae: 4.6363 - val_loss: 15.9368 - val_mae: 2.8597\n",
      "Epoch 35/100\n",
      "11/11 [==============================] - 0s 4ms/step - loss: 36.4922 - mae: 4.4959 - val_loss: 15.7462 - val_mae: 2.9425\n",
      "Epoch 36/100\n",
      "11/11 [==============================] - 0s 5ms/step - loss: 34.3714 - mae: 4.3585 - val_loss: 15.6084 - val_mae: 2.9612\n",
      "Epoch 37/100\n",
      "11/11 [==============================] - 0s 4ms/step - loss: 38.8264 - mae: 4.7213 - val_loss: 15.4246 - val_mae: 2.9303\n",
      "Epoch 38/100\n",
      "11/11 [==============================] - 0s 4ms/step - loss: 31.2203 - mae: 4.3062 - val_loss: 16.6653 - val_mae: 2.8902\n",
      "Epoch 39/100\n",
      "11/11 [==============================] - 0s 5ms/step - loss: 32.7716 - mae: 4.3951 - val_loss: 14.5811 - val_mae: 2.8272\n",
      "Epoch 40/100\n",
      "11/11 [==============================] - 0s 5ms/step - loss: 33.7545 - mae: 4.3500 - val_loss: 14.6102 - val_mae: 2.8086\n",
      "Epoch 41/100\n",
      "11/11 [==============================] - 0s 4ms/step - loss: 34.5262 - mae: 4.4935 - val_loss: 15.2115 - val_mae: 2.8064\n",
      "Epoch 42/100\n",
      "11/11 [==============================] - 0s 4ms/step - loss: 29.1900 - mae: 4.1504 - val_loss: 15.2063 - val_mae: 2.7926\n",
      "Epoch 43/100\n",
      "11/11 [==============================] - 0s 4ms/step - loss: 37.1405 - mae: 4.4801 - val_loss: 15.1944 - val_mae: 2.7766\n",
      "Epoch 44/100\n",
      "11/11 [==============================] - 0s 4ms/step - loss: 38.0120 - mae: 4.4245 - val_loss: 15.1745 - val_mae: 2.7341\n",
      "Epoch 45/100\n",
      "11/11 [==============================] - 0s 4ms/step - loss: 35.5187 - mae: 4.4756 - val_loss: 15.9383 - val_mae: 2.7953\n",
      "Epoch 46/100\n",
      "11/11 [==============================] - 0s 4ms/step - loss: 35.0343 - mae: 4.2289 - val_loss: 14.7557 - val_mae: 2.6911\n",
      "Epoch 47/100\n",
      "11/11 [==============================] - 0s 5ms/step - loss: 31.9877 - mae: 4.2489 - val_loss: 14.9693 - val_mae: 2.6851\n",
      "Epoch 48/100\n",
      "11/11 [==============================] - 0s 4ms/step - loss: 31.8676 - mae: 4.1626 - val_loss: 13.8201 - val_mae: 2.6299\n",
      "Epoch 49/100\n",
      "11/11 [==============================] - 0s 5ms/step - loss: 30.4946 - mae: 4.1227 - val_loss: 14.3685 - val_mae: 2.6286\n",
      "Epoch 50/100\n",
      "11/11 [==============================] - 0s 4ms/step - loss: 32.4492 - mae: 4.2578 - val_loss: 14.2632 - val_mae: 2.6773\n",
      "Epoch 51/100\n",
      "11/11 [==============================] - 0s 4ms/step - loss: 32.5490 - mae: 4.2652 - val_loss: 14.2447 - val_mae: 2.6317\n",
      "Epoch 52/100\n",
      "11/11 [==============================] - 0s 4ms/step - loss: 31.4849 - mae: 4.0251 - val_loss: 13.2007 - val_mae: 2.6209\n",
      "Epoch 53/100\n",
      "11/11 [==============================] - 0s 4ms/step - loss: 28.4497 - mae: 4.0725 - val_loss: 13.0634 - val_mae: 2.6042\n",
      "Epoch 54/100\n",
      "11/11 [==============================] - 0s 4ms/step - loss: 34.0869 - mae: 4.3227 - val_loss: 14.5978 - val_mae: 2.8570\n",
      "Epoch 55/100\n",
      "11/11 [==============================] - 0s 4ms/step - loss: 26.1701 - mae: 3.8808 - val_loss: 13.3159 - val_mae: 2.6764\n",
      "Epoch 56/100\n",
      "11/11 [==============================] - 0s 4ms/step - loss: 30.3587 - mae: 4.0366 - val_loss: 13.1760 - val_mae: 2.5703\n",
      "Epoch 57/100\n",
      "11/11 [==============================] - 0s 4ms/step - loss: 32.3371 - mae: 4.2384 - val_loss: 15.4333 - val_mae: 2.7720\n",
      "Epoch 58/100\n",
      "11/11 [==============================] - 0s 5ms/step - loss: 25.4366 - mae: 3.8097 - val_loss: 14.3935 - val_mae: 2.7412\n",
      "Epoch 59/100\n",
      "11/11 [==============================] - 0s 4ms/step - loss: 25.3038 - mae: 3.8042 - val_loss: 13.2103 - val_mae: 2.5437\n",
      "Epoch 60/100\n",
      "11/11 [==============================] - 0s 3ms/step - loss: 30.1522 - mae: 3.9867 - val_loss: 13.5936 - val_mae: 2.5538\n",
      "Epoch 61/100\n",
      "11/11 [==============================] - 0s 4ms/step - loss: 24.8045 - mae: 3.7536 - val_loss: 15.1663 - val_mae: 2.6622\n"
     ]
    },
    {
     "name": "stdout",
     "output_type": "stream",
     "text": [
      "Epoch 62/100\n",
      "11/11 [==============================] - 0s 4ms/step - loss: 27.5530 - mae: 3.8602 - val_loss: 13.1437 - val_mae: 2.5518\n",
      "Epoch 63/100\n",
      "11/11 [==============================] - 0s 3ms/step - loss: 25.1394 - mae: 3.8598 - val_loss: 12.8963 - val_mae: 2.5298\n",
      "Epoch 64/100\n",
      "11/11 [==============================] - 0s 4ms/step - loss: 29.4457 - mae: 3.8012 - val_loss: 13.4465 - val_mae: 2.5376\n",
      "Epoch 65/100\n",
      "11/11 [==============================] - 0s 4ms/step - loss: 27.8428 - mae: 3.8763 - val_loss: 13.5005 - val_mae: 2.5326\n",
      "Epoch 66/100\n",
      "11/11 [==============================] - 0s 3ms/step - loss: 22.7865 - mae: 3.5806 - val_loss: 12.3552 - val_mae: 2.5042\n",
      "Epoch 67/100\n",
      "11/11 [==============================] - 0s 4ms/step - loss: 28.4470 - mae: 3.9009 - val_loss: 12.8386 - val_mae: 2.4574\n",
      "Epoch 68/100\n",
      "11/11 [==============================] - 0s 3ms/step - loss: 31.8568 - mae: 4.1958 - val_loss: 13.8564 - val_mae: 2.5578\n",
      "Epoch 69/100\n",
      "11/11 [==============================] - 0s 4ms/step - loss: 25.4848 - mae: 3.7711 - val_loss: 12.8623 - val_mae: 2.4962\n",
      "Epoch 70/100\n",
      "11/11 [==============================] - 0s 3ms/step - loss: 26.2627 - mae: 3.9878 - val_loss: 13.2349 - val_mae: 2.5952\n",
      "Epoch 71/100\n",
      "11/11 [==============================] - 0s 3ms/step - loss: 31.3050 - mae: 4.1166 - val_loss: 13.3788 - val_mae: 2.5745\n",
      "Epoch 72/100\n",
      "11/11 [==============================] - 0s 4ms/step - loss: 26.6930 - mae: 3.8962 - val_loss: 13.8697 - val_mae: 2.5906\n",
      "Epoch 73/100\n",
      "11/11 [==============================] - 0s 4ms/step - loss: 28.6095 - mae: 4.0760 - val_loss: 13.0840 - val_mae: 2.5838\n",
      "Epoch 74/100\n",
      "11/11 [==============================] - 0s 4ms/step - loss: 28.6730 - mae: 3.9287 - val_loss: 13.7643 - val_mae: 2.6031\n",
      "Epoch 75/100\n",
      "11/11 [==============================] - 0s 4ms/step - loss: 31.5035 - mae: 3.9946 - val_loss: 13.5093 - val_mae: 2.5870\n",
      "Epoch 76/100\n",
      "11/11 [==============================] - 0s 4ms/step - loss: 27.7639 - mae: 3.8874 - val_loss: 12.9759 - val_mae: 2.5094\n",
      "Epoch 77/100\n",
      "11/11 [==============================] - 0s 3ms/step - loss: 25.9876 - mae: 3.7811 - val_loss: 12.6989 - val_mae: 2.4559\n",
      "Epoch 78/100\n",
      "11/11 [==============================] - 0s 4ms/step - loss: 22.4380 - mae: 3.7570 - val_loss: 12.3284 - val_mae: 2.4090\n",
      "Epoch 79/100\n",
      "11/11 [==============================] - 0s 4ms/step - loss: 23.1969 - mae: 3.7057 - val_loss: 12.4466 - val_mae: 2.4258\n",
      "Epoch 80/100\n",
      "11/11 [==============================] - 0s 4ms/step - loss: 26.8001 - mae: 3.7981 - val_loss: 13.4934 - val_mae: 2.5117\n",
      "Epoch 81/100\n",
      "11/11 [==============================] - 0s 4ms/step - loss: 27.1875 - mae: 3.8090 - val_loss: 12.0619 - val_mae: 2.4279\n",
      "Epoch 82/100\n",
      "11/11 [==============================] - 0s 3ms/step - loss: 27.3624 - mae: 3.9754 - val_loss: 12.2777 - val_mae: 2.4405\n",
      "Epoch 83/100\n",
      "11/11 [==============================] - 0s 4ms/step - loss: 26.4803 - mae: 3.7839 - val_loss: 12.5348 - val_mae: 2.4086\n",
      "Epoch 84/100\n",
      "11/11 [==============================] - 0s 3ms/step - loss: 28.8925 - mae: 3.9719 - val_loss: 12.0356 - val_mae: 2.3923\n",
      "Epoch 85/100\n",
      "11/11 [==============================] - 0s 4ms/step - loss: 22.2044 - mae: 3.5025 - val_loss: 11.8394 - val_mae: 2.3859\n",
      "Epoch 86/100\n",
      "11/11 [==============================] - 0s 3ms/step - loss: 25.4384 - mae: 3.7703 - val_loss: 12.0479 - val_mae: 2.4105\n",
      "Epoch 87/100\n",
      "11/11 [==============================] - 0s 3ms/step - loss: 25.9429 - mae: 3.7625 - val_loss: 11.9711 - val_mae: 2.4344\n",
      "Epoch 88/100\n",
      "11/11 [==============================] - 0s 3ms/step - loss: 30.3953 - mae: 3.9595 - val_loss: 11.9471 - val_mae: 2.4013\n",
      "Epoch 89/100\n",
      "11/11 [==============================] - 0s 3ms/step - loss: 23.6834 - mae: 3.6521 - val_loss: 12.7245 - val_mae: 2.4691\n",
      "Epoch 90/100\n",
      "11/11 [==============================] - 0s 3ms/step - loss: 23.6897 - mae: 3.6543 - val_loss: 11.5007 - val_mae: 2.3528\n",
      "Epoch 91/100\n",
      "11/11 [==============================] - 0s 3ms/step - loss: 27.2468 - mae: 3.8647 - val_loss: 11.6359 - val_mae: 2.3463\n",
      "Epoch 92/100\n",
      "11/11 [==============================] - 0s 3ms/step - loss: 27.5230 - mae: 3.8295 - val_loss: 11.4014 - val_mae: 2.3506\n",
      "Epoch 93/100\n",
      "11/11 [==============================] - 0s 3ms/step - loss: 25.3282 - mae: 3.8002 - val_loss: 11.9623 - val_mae: 2.4206\n",
      "Epoch 94/100\n",
      "11/11 [==============================] - 0s 3ms/step - loss: 23.1654 - mae: 3.4822 - val_loss: 12.5735 - val_mae: 2.4699\n",
      "Epoch 95/100\n",
      "11/11 [==============================] - 0s 3ms/step - loss: 22.0582 - mae: 3.5242 - val_loss: 10.8386 - val_mae: 2.2842\n",
      "Epoch 96/100\n",
      "11/11 [==============================] - 0s 3ms/step - loss: 23.9813 - mae: 3.7255 - val_loss: 11.5857 - val_mae: 2.3780\n",
      "Epoch 97/100\n",
      "11/11 [==============================] - 0s 4ms/step - loss: 28.8923 - mae: 4.0566 - val_loss: 12.1619 - val_mae: 2.4429\n",
      "Epoch 98/100\n",
      "11/11 [==============================] - 0s 3ms/step - loss: 26.2741 - mae: 3.9319 - val_loss: 11.5519 - val_mae: 2.3522\n",
      "Epoch 99/100\n",
      "11/11 [==============================] - 0s 3ms/step - loss: 25.7301 - mae: 3.8196 - val_loss: 12.1878 - val_mae: 2.4578\n",
      "Epoch 100/100\n",
      "11/11 [==============================] - 0s 3ms/step - loss: 23.7183 - mae: 3.7682 - val_loss: 12.5676 - val_mae: 2.4968\n"
     ]
    }
   ],
   "source": [
    "history = model.fit(X_train, y_train, validation_split=0.2, epochs=100)"
   ]
  },
  {
   "cell_type": "code",
   "execution_count": 62,
   "metadata": {},
   "outputs": [],
   "source": [
    "y_pred = model.predict(X_test)"
   ]
  },
  {
   "cell_type": "markdown",
   "metadata": {
    "colab_type": "text",
    "id": "n7_b18ANDkdV"
   },
   "source": [
    "##Predcting result and creating accuracy metrices"
   ]
  },
  {
   "cell_type": "code",
   "execution_count": 63,
   "metadata": {
    "colab": {
     "base_uri": "https://localhost:8080/",
     "height": 34
    },
    "colab_type": "code",
    "id": "KlV-_wvmEZb9",
    "outputId": "da7b7e04-60be-4e01-a604-6858b8701a35"
   },
   "outputs": [
    {
     "name": "stdout",
     "output_type": "stream",
     "text": [
      "3.3122566858927414\n"
     ]
    }
   ],
   "source": [
    "from sklearn.metrics import mean_squared_error, mean_absolute_error\n",
    "print(mean_absolute_error(y_test, y_pred))"
   ]
  },
  {
   "cell_type": "markdown",
   "metadata": {
    "colab_type": "text",
    "id": "Y-OnH7aXKW36"
   },
   "source": []
  }
 ],
 "metadata": {
  "colab": {
   "collapsed_sections": [],
   "name": "Hactoberfest_DSC_JIIT128_Regression.ipynb",
   "provenance": [],
   "toc_visible": true
  },
  "kernelspec": {
   "display_name": "Python 3",
   "language": "python",
   "name": "python3"
  },
  "language_info": {
   "codemirror_mode": {
    "name": "ipython",
    "version": 3
   },
   "file_extension": ".py",
   "mimetype": "text/x-python",
   "name": "python",
   "nbconvert_exporter": "python",
   "pygments_lexer": "ipython3",
   "version": "3.8.6rc1"
  }
 },
 "nbformat": 4,
 "nbformat_minor": 1
}
